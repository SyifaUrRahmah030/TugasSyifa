{
  "nbformat": 4,
  "nbformat_minor": 0,
  "metadata": {
    "colab": {
      "name": "Untitled2.ipynb",
      "provenance": [],
      "authorship_tag": "ABX9TyMd1QJIVUpZCxwQXA25oD/5",
      "include_colab_link": true
    },
    "kernelspec": {
      "name": "python3",
      "display_name": "Python 3"
    },
    "language_info": {
      "name": "python"
    }
  },
  "cells": [
    {
      "cell_type": "markdown",
      "metadata": {
        "id": "view-in-github",
        "colab_type": "text"
      },
      "source": [
        "<a href=\"https://colab.research.google.com/github/SyifaUrRahmah030/TugasSyifa/blob/main/Untitled2.ipynb\" target=\"_parent\"><img src=\"https://colab.research.google.com/assets/colab-badge.svg\" alt=\"Open In Colab\"/></a>"
      ]
    },
    {
      "cell_type": "markdown",
      "source": [
        "Syifa Ur Rahmah (H051211030)"
      ],
      "metadata": {
        "id": "LOkWmr3ooL3G"
      }
    },
    {
      "cell_type": "markdown",
      "source": [
        "Penjumlahan Dua Buah Matriks"
      ],
      "metadata": {
        "id": "F6dm1y1VoSpH"
      }
    },
    {
      "cell_type": "code",
      "source": [
        "matriksA= [\n",
        "           [a, b],\n",
        "           [c, d],\n",
        "]\n",
        "a = int(input('masukkan nilai a:'))\n",
        "b = int(input('masukkan nilai b:'))\n",
        "c = int(input('masukkan nilai c:'))\n",
        "d = int(input('masukkan nilai d:'))\n",
        "print('matriks A', matriksA)\n",
        "\n",
        "matriksB= [\n",
        "            [e, f],\n",
        "            [g, h],         \n",
        "]\n",
        "e = int(input('masukkan nilai e:'))\n",
        "f = int(input('masukkan nilai f:'))\n",
        "g = int(input('masukkan nilai g:'))\n",
        "h = int(input('masukkan nilai h:'))\n",
        "print('matriks B', matriksB)\n",
        "\n",
        "for i in range(0, len(matriksA)):\n",
        "  for j in range(0, len(matriksA[0])):\n",
        "    print(matriksA[i][j] + matriksB[i][j],end='  '),\n",
        "  print()"
      ],
      "metadata": {
        "id": "P30zgfQ7oLXn"
      },
      "execution_count": null,
      "outputs": []
    },
    {
      "cell_type": "markdown",
      "source": [
        "Nomor 1"
      ],
      "metadata": {
        "id": "-LVV1yxPpDrD"
      }
    },
    {
      "cell_type": "code",
      "execution_count": null,
      "metadata": {
        "id": "jaBjs4d8oIJn"
      },
      "outputs": [],
      "source": [
        "barang=int(input('Banyak Buah Barang:'))\n",
        "for B in range (barang):\n",
        "  print('Barang ke-',B+1)\n",
        "  jumlahbrg= int(input('Jumlah Barang:'))\n",
        "  hargabrg= int(input('Harga Barang:'))\n",
        "  total=jumlahbrg*hargabrg"
      ]
    },
    {
      "cell_type": "markdown",
      "source": [
        "Nomor 2"
      ],
      "metadata": {
        "id": "X7wlR7VDoI_N"
      }
    },
    {
      "cell_type": "code",
      "source": [
        "Banyakbil= int(input('Input Banyak bilangan:'))\n",
        "jum_genap=0\n",
        "jum_ganjil=0\n",
        "for B in range (Banyakbil):\n",
        "  b = int(input('Input Bilangan:'))\n",
        "  if b % 2 == 0:\n",
        "   jum_genap=jum_genap+1\n",
        "  else:\n",
        "    jum_ganjil=jum_ganjil+1\n",
        "print('banyak bilangan genap = ',jum_genap)\n",
        "print('banyak bilangan ganjil = ',jum_ganjil)"
      ],
      "metadata": {
        "id": "qlD9vllVpOnx"
      },
      "execution_count": null,
      "outputs": []
    },
    {
      "cell_type": "markdown",
      "source": [
        "Nomor 3"
      ],
      "metadata": {
        "id": "G3P7JmrwpVj1"
      }
    },
    {
      "cell_type": "code",
      "source": [
        "nilaiawal=int(input('Input Nilai Awal:'))\n",
        "nilaiakhir=int(input('Input Nilai Akhir:'))\n",
        "print('bilangan kelipatan 3 antara %d dan %d' %(nilaiawal,nilaiakhir))\n",
        "for i in range (nilaiawal, nilaiakhir+1):\n",
        "  if i%3==0:\n",
        "    print(i, end= ' ' )"
      ],
      "metadata": {
        "id": "yFeMdKs7pW8c"
      },
      "execution_count": null,
      "outputs": []
    },
    {
      "cell_type": "markdown",
      "source": [
        "Nomor 4"
      ],
      "metadata": {
        "id": "mXXCqakQpbFT"
      }
    },
    {
      "cell_type": "code",
      "source": [
        "n = int(input('bilangan: '))\n",
        "for i in range(1,n+1):\n",
        "    for j in range(1,i+1):\n",
        "        print(str(int(j)), end=' ')  \n",
        "    print(' ')"
      ],
      "metadata": {
        "id": "1B19jgPHpedj"
      },
      "execution_count": null,
      "outputs": []
    },
    {
      "cell_type": "markdown",
      "source": [
        "Nomor 5"
      ],
      "metadata": {
        "id": "R1V6s37Npcje"
      }
    },
    {
      "cell_type": "code",
      "source": [
        "from texttable import Texttable\n",
        "table = Texttable\n",
        "jawab = 'y'\n",
        "no = 0\n",
        "nama = []\n",
        "n_tugas = []\n",
        "n_kuis = []\n",
        "n_UTS = []\n",
        "n_UAS = []\n",
        "nilai_Akhir = []\n",
        "while(jawab == 'y'):\n",
        "  nama.append\n",
        "\n",
        "table.add_rows([['No.', 'Nama Mhs', 'N.Tugas', 'N.Kuis', 'N.UTS','N.UAS','Nilai Akhir'],\n",
        "                N+1, NamaMhs, NilaiTugas, NilaiKuis, NilaiUTS, NilaiUAS, NilaiAkhir])\n",
        "print(table.draw())"
      ],
      "metadata": {
        "id": "yX-YhknHplAI"
      },
      "execution_count": null,
      "outputs": []
    }
  ]
}